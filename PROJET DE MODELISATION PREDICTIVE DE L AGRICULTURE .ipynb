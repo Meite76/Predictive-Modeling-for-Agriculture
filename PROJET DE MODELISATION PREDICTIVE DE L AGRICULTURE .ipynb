{
 "cells": [
  {
   "cell_type": "markdown",
   "id": "bb1391ab-b5c8-4e1e-9691-f0b900146727",
   "metadata": {},
   "source": [
    "Voici le texte recopié correctement sans le traiter :\r\n",
    "\r\n",
    "---\r\n",
    "\r\n",
    "**Description du projet**\r\n",
    "\r\n",
    "Un agriculteur vous a contacté en tant qu'expert en apprentissage automatique cherchant de l'aide pour sélectionner la meilleure récolte pour son domaine. En raison de contraintes budgétaires, l'agriculteur a expliqué qu'il ne pouvait se permettre de mesurer qu'une des quatre mesures essentielles concernant les sols :\r\n",
    "\r\n",
    "* Nitrogen : Rapport de teneur dans le sol\r\n",
    "* Phosphorous : Rapport de teneur dans le sol\r\n",
    "* Potassium : Rapport de teneur dans le sol\r\n",
    "* pH : valeur du sol\r\n",
    "\r\n",
    "L'expert s'est rendu compte qu'il s'agissait d'un problème de sélection de caractéristiques classique, où l'objectif est de choisir la caractéristique la plus importante qui pourrait aider à prédire la culture avec précision. Peux-tu l'aider ?\r\n",
    "\r\n",
    "---\r\n",
    "\r\n",
    "Si tu souhaites, je peux maintenant t’aider à le traiter ou à aller plus loin.\r\n"
   ]
  },
  {
   "cell_type": "code",
   "execution_count": 25,
   "id": "4b41f829-c862-495a-a150-a36ae6d521e5",
   "metadata": {},
   "outputs": [
    {
     "name": "stdout",
     "output_type": "stream",
     "text": [
      "['rice' 'maize' 'chickpea' 'kidneybeans' 'pigeonpeas' 'mothbeans'\n",
      " 'mungbean' 'blackgram' 'lentil' 'pomegranate' 'banana' 'mango' 'grapes'\n",
      " 'watermelon' 'muskmelon' 'apple' 'orange' 'papaya' 'coconut' 'cotton'\n",
      " 'jute' 'coffee']\n"
     ]
    },
    {
     "name": "stderr",
     "output_type": "stream",
     "text": [
      "C:\\Users\\POATAN\\anaconda3\\Lib\\site-packages\\sklearn\\linear_model\\_logistic.py:469: ConvergenceWarning: lbfgs failed to converge (status=1):\n",
      "STOP: TOTAL NO. of ITERATIONS REACHED LIMIT.\n",
      "\n",
      "Increase the number of iterations (max_iter) or scale the data as shown in:\n",
      "    https://scikit-learn.org/stable/modules/preprocessing.html\n",
      "Please also refer to the documentation for alternative solver options:\n",
      "    https://scikit-learn.org/stable/modules/linear_model.html#logistic-regression\n",
      "  n_iter_i = _check_optimize_result(\n"
     ]
    },
    {
     "name": "stdout",
     "output_type": "stream",
     "text": [
      "F1-score for index: 0.989\n"
     ]
    },
    {
     "name": "stderr",
     "output_type": "stream",
     "text": [
      "C:\\Users\\POATAN\\anaconda3\\Lib\\site-packages\\sklearn\\linear_model\\_logistic.py:469: ConvergenceWarning: lbfgs failed to converge (status=1):\n",
      "STOP: TOTAL NO. of ITERATIONS REACHED LIMIT.\n",
      "\n",
      "Increase the number of iterations (max_iter) or scale the data as shown in:\n",
      "    https://scikit-learn.org/stable/modules/preprocessing.html\n",
      "Please also refer to the documentation for alternative solver options:\n",
      "    https://scikit-learn.org/stable/modules/linear_model.html#logistic-regression\n",
      "  n_iter_i = _check_optimize_result(\n"
     ]
    },
    {
     "name": "stdout",
     "output_type": "stream",
     "text": [
      "F1-score for N: 0.105\n"
     ]
    },
    {
     "name": "stderr",
     "output_type": "stream",
     "text": [
      "C:\\Users\\POATAN\\anaconda3\\Lib\\site-packages\\sklearn\\linear_model\\_logistic.py:469: ConvergenceWarning: lbfgs failed to converge (status=1):\n",
      "STOP: TOTAL NO. of ITERATIONS REACHED LIMIT.\n",
      "\n",
      "Increase the number of iterations (max_iter) or scale the data as shown in:\n",
      "    https://scikit-learn.org/stable/modules/preprocessing.html\n",
      "Please also refer to the documentation for alternative solver options:\n",
      "    https://scikit-learn.org/stable/modules/linear_model.html#logistic-regression\n",
      "  n_iter_i = _check_optimize_result(\n"
     ]
    },
    {
     "name": "stdout",
     "output_type": "stream",
     "text": [
      "F1-score for P: 0.128\n",
      "F1-score for K: 0.226\n",
      "F1-score for ph: 0.046\n",
      "\n",
      "Meilleure feature et son score: {'index': 0.9886864705931513}\n"
     ]
    },
    {
     "name": "stderr",
     "output_type": "stream",
     "text": [
      "C:\\Users\\POATAN\\anaconda3\\Lib\\site-packages\\sklearn\\linear_model\\_logistic.py:469: ConvergenceWarning: lbfgs failed to converge (status=1):\n",
      "STOP: TOTAL NO. of ITERATIONS REACHED LIMIT.\n",
      "\n",
      "Increase the number of iterations (max_iter) or scale the data as shown in:\n",
      "    https://scikit-learn.org/stable/modules/preprocessing.html\n",
      "Please also refer to the documentation for alternative solver options:\n",
      "    https://scikit-learn.org/stable/modules/linear_model.html#logistic-regression\n",
      "  n_iter_i = _check_optimize_result(\n"
     ]
    }
   ],
   "source": [
    "import pandas as pd\n",
    "from sklearn.linear_model import LogisticRegression\n",
    "from sklearn.model_selection import train_test_split\n",
    "from sklearn import metrics\n",
    "\n",
    "# Charger les données\n",
    "crops = pd.read_csv(r\"C:\\Users\\POATAN\\Desktop\\MES PROJET MACHINE LEARNING\\soil_measures.csv\")\n",
    "\n",
    "print(crops[\"crop\"].unique())\n",
    "\n",
    "X = crops.drop(\"crop\", axis=1)\n",
    "y = crops[\"crop\"]\n",
    "\n",
    "X_train, X_test, y_train, y_test = train_test_split(X, y, test_size=0.2, random_state=42)\n",
    "\n",
    "feature_performance = {}  # dictionnaire correct\n",
    "\n",
    "# Itérer sur les colonnes/features uniquement\n",
    "for feature in X.columns:\n",
    "    log_reg = LogisticRegression(multi_class=\"multinomial\", solver='lbfgs', max_iter=200)\n",
    "    log_reg.fit(X_train[[feature]], y_train)\n",
    "    y_pred = log_reg.predict(X_test[[feature]])\n",
    "    score = metrics.f1_score(y_test, y_pred, average='weighted')\n",
    "\n",
    "    feature_performance[feature] = score  # bien dans la boucle\n",
    "    print(f\"F1-score for {feature}: {score:.3f}\")\n",
    "\n",
    "# Trouver la meilleure feature\n",
    "best_feature = max(feature_performance, key=feature_performance.get)\n",
    "best_score = feature_performance[best_feature]\n",
    "\n",
    "best_predictive_feature = {best_feature: best_score}\n",
    "print(f\"\\nMeilleure feature et son score: {best_predictive_feature}\")\n"
   ]
  }
 ],
 "metadata": {
  "kernelspec": {
   "display_name": "Python 3 (ipykernel)",
   "language": "python",
   "name": "python3"
  },
  "language_info": {
   "codemirror_mode": {
    "name": "ipython",
    "version": 3
   },
   "file_extension": ".py",
   "mimetype": "text/x-python",
   "name": "python",
   "nbconvert_exporter": "python",
   "pygments_lexer": "ipython3",
   "version": "3.12.4"
  }
 },
 "nbformat": 4,
 "nbformat_minor": 5
}
